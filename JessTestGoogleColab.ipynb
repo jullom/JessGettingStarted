{
  "nbformat": 4,
  "nbformat_minor": 0,
  "metadata": {
    "colab": {
      "name": "JessTestGoogleColab.ipynb",
      "provenance": [],
      "collapsed_sections": [],
      "authorship_tag": "ABX9TyNcxz0s9DXSz1O19N3J1bm1",
      "include_colab_link": true
    },
    "kernelspec": {
      "name": "python3",
      "display_name": "Python 3"
    },
    "language_info": {
      "name": "python"
    }
  },
  "cells": [
    {
      "cell_type": "markdown",
      "metadata": {
        "id": "view-in-github",
        "colab_type": "text"
      },
      "source": [
        "<a href=\"https://colab.research.google.com/github/jullom/JessGettingStarted/blob/main/JessTestGoogleColab.ipynb\" target=\"_parent\"><img src=\"https://colab.research.google.com/assets/colab-badge.svg\" alt=\"Open In Colab\"/></a>"
      ]
    },
    {
      "cell_type": "code",
      "metadata": {
        "colab": {
          "base_uri": "https://localhost:8080/"
        },
        "id": "r9MRuKXm7x3m",
        "outputId": "c3b59424-6dea-4510-94a0-562e17112b75"
      },
      "source": [
        "# I don't know what I'm going, but hello! It's 7:02 p.m. on a Saturday night, 9 October 2021.\n",
        "# Do I have a free account through ASU?\n",
        "import math\n",
        "TestAnswer = 5*5+7\n",
        "TestAnswer"
      ],
      "execution_count": 8,
      "outputs": [
        {
          "output_type": "execute_result",
          "data": {
            "text/plain": [
              "32"
            ]
          },
          "metadata": {},
          "execution_count": 8
        }
      ]
    },
    {
      "cell_type": "code",
      "metadata": {
        "id": "6JyB8CXT84wH"
      },
      "source": [
        ""
      ],
      "execution_count": null,
      "outputs": []
    },
    {
      "cell_type": "markdown",
      "metadata": {
        "id": "-eK3Tf2L85Wm"
      },
      "source": [
        ""
      ]
    }
  ]
}